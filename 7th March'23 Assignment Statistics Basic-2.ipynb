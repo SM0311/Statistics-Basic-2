{
 "cells": [
  {
   "cell_type": "markdown",
   "id": "0984ee0e-7f2c-4aff-9f76-127a4f4fc95a",
   "metadata": {},
   "source": [
    "Q1. What are the three measures of central tendency?"
   ]
  },
  {
   "cell_type": "markdown",
   "id": "bf6cee1c-dd96-4d3c-abb1-40136de64bfa",
   "metadata": {},
   "source": [
    "Answer 1. The three measures of central tendency are:\n",
    "\n",
    "1. Mean: It is the sum of all the values in a dataset divided by the number of values in the dataset. The mean represents the \"average\" value of the dataset.\n",
    "\n",
    "2. Median: It is the middle value in a dataset when the values are arranged in order from smallest to largest. The median represents the \"middle\" value of the dataset.\n",
    "\n",
    "3. Mode: It is the value in a dataset that occurs most frequently. The mode represents the \"most common\" value in the dataset.\n",
    "\n",
    "These three measures are commonly used in statistical analysis to describe the central or typical value of a dataset."
   ]
  },
  {
   "cell_type": "markdown",
   "id": "89534978-c80e-4d48-97b1-3bd1afd36a39",
   "metadata": {},
   "source": [
    "Q2. What is the difference between the mean, median, and mode? How are they used to measure the central tendency of a dataset?"
   ]
  },
  {
   "cell_type": "markdown",
   "id": "57200d99-e2e1-4380-8963-4d6baa999f66",
   "metadata": {},
   "source": [
    "Answer 2. The mean, median, and mode are three measures of central tendency used to describe the typical or central value of a dataset. They differ in how they are calculated and the type of data they are best suited for.\n",
    "\n",
    "1. Mean: The mean is calculated by adding up all the values in the dataset and dividing by the number of values. It is often used when the data is continuous or interval, as it takes into account every value in the dataset. The mean is sensitive to outliers in the dataset, as a single large or small value can have a significant effect on its value.\n",
    "\n",
    "2. Median: The median is the middle value of a dataset when the values are arranged in order from smallest to largest. It is used when the data is skewed or has outliers, as it is not affected by extreme values in the dataset. To calculate the median, we first arrange the data in order, and if there is an even number of data points, we take the average of the two middle values.\n",
    "\n",
    "3. Mode: The mode is the value that appears most frequently in a dataset. It is used when the data is categorical or discrete, as it describes the most common value in the dataset. A dataset may have multiple modes or no mode at all.\n",
    "\n",
    "To measure the central tendency of a dataset, we use these measures in different situations. If the dataset is normally distributed or symmetrical, the mean and median are usually close to each other and both can be used as measures of central tendency. If the dataset is skewed or has outliers, the median is often used as it is more resistant to extreme values than the mean. If the data is categorical, we use the mode to describe the most common value. Overall, the choice of measure depends on the type of data and the goal of the analysis."
   ]
  },
  {
   "cell_type": "markdown",
   "id": "f8714aaa-7660-466b-bf78-7aa868b05cde",
   "metadata": {},
   "source": [
    "Q3. Measure the three measures of central tendency for the given height data:\n",
    "[178,177,176,177,178.2,178,175,179,180,175,178.9,176.2,177,172.5,178,176.5]"
   ]
  },
  {
   "cell_type": "code",
   "execution_count": 1,
   "id": "ac490a9b-41e6-4f45-9155-b8f04bebdc6f",
   "metadata": {},
   "outputs": [],
   "source": [
    "import numpy as np\n",
    "height_data = [178, 177, 176, 177, 178.2, 178, 175, 179, 180, 175, 178.9, 176.2 , 177, 172.5, 178, 176.5]"
   ]
  },
  {
   "cell_type": "code",
   "execution_count": 2,
   "id": "464a6c5e-3309-49a9-bbfd-dd53dc03ecf4",
   "metadata": {},
   "outputs": [],
   "source": [
    "mean = np.mean(height_data)"
   ]
  },
  {
   "cell_type": "code",
   "execution_count": 3,
   "id": "f6c2c2c0-1df9-4d57-8b34-4751e25f8667",
   "metadata": {},
   "outputs": [
    {
     "data": {
      "text/plain": [
       "177.01875"
      ]
     },
     "execution_count": 3,
     "metadata": {},
     "output_type": "execute_result"
    }
   ],
   "source": [
    "mean"
   ]
  },
  {
   "cell_type": "code",
   "execution_count": 4,
   "id": "bf74cb9b-a083-453d-82b6-b34285ace29d",
   "metadata": {},
   "outputs": [],
   "source": [
    "median = np.median(height_data)"
   ]
  },
  {
   "cell_type": "code",
   "execution_count": 5,
   "id": "6c61ce88-1c1e-4ea4-92f1-d1c6787b056b",
   "metadata": {},
   "outputs": [
    {
     "data": {
      "text/plain": [
       "177.0"
      ]
     },
     "execution_count": 5,
     "metadata": {},
     "output_type": "execute_result"
    }
   ],
   "source": [
    "median"
   ]
  },
  {
   "cell_type": "code",
   "execution_count": 6,
   "id": "4ec85bf1-7579-4564-ba71-94b87a15e92b",
   "metadata": {},
   "outputs": [],
   "source": [
    "from scipy import stats"
   ]
  },
  {
   "cell_type": "code",
   "execution_count": 7,
   "id": "0f6ea1bd-a5f6-4119-9d8a-86681e6bd470",
   "metadata": {},
   "outputs": [
    {
     "name": "stderr",
     "output_type": "stream",
     "text": [
      "/tmp/ipykernel_733/790827024.py:1: FutureWarning: Unlike other reduction functions (e.g. `skew`, `kurtosis`), the default behavior of `mode` typically preserves the axis it acts along. In SciPy 1.11.0, this behavior will change: the default value of `keepdims` will become False, the `axis` over which the statistic is taken will be eliminated, and the value None will no longer be accepted. Set `keepdims` to True or False to avoid this warning.\n",
      "  mode = stats.mode(height_data)\n"
     ]
    }
   ],
   "source": [
    "mode = stats.mode(height_data)"
   ]
  },
  {
   "cell_type": "code",
   "execution_count": 8,
   "id": "0efecfe4-9f78-46bd-973d-e3b736a3602a",
   "metadata": {},
   "outputs": [
    {
     "data": {
      "text/plain": [
       "ModeResult(mode=array([177.]), count=array([3]))"
      ]
     },
     "execution_count": 8,
     "metadata": {},
     "output_type": "execute_result"
    }
   ],
   "source": [
    "mode"
   ]
  },
  {
   "cell_type": "markdown",
   "id": "b330c54b-d2b6-4ec5-9e28-cfc190ec83b9",
   "metadata": {},
   "source": [
    "Q4. Find the standard deviation for the given data:\n",
    "[178,177,176,177,178.2,178,175,179,180,175,178.9,176.2,177,172.5,178,176.5]"
   ]
  },
  {
   "cell_type": "code",
   "execution_count": 9,
   "id": "f91889d0-23df-446b-9f8c-0c4f080758cb",
   "metadata": {},
   "outputs": [],
   "source": [
    "import numpy as np"
   ]
  },
  {
   "cell_type": "code",
   "execution_count": 10,
   "id": "4266056a-1ca7-4dad-8a24-e2a941609eae",
   "metadata": {},
   "outputs": [],
   "source": [
    "data = [178,177,176,177,178.2,178,175,179,180,175,178.9,176.2,177,172.5,178,176.5]"
   ]
  },
  {
   "cell_type": "code",
   "execution_count": 13,
   "id": "8f50bd42-3446-4790-b9d7-a2f49f06ca11",
   "metadata": {},
   "outputs": [],
   "source": [
    "std = np.std(data)"
   ]
  },
  {
   "cell_type": "code",
   "execution_count": 14,
   "id": "7d4b1d5a-b89c-48d2-a480-eef4904402fd",
   "metadata": {},
   "outputs": [
    {
     "data": {
      "text/plain": [
       "1.7885814036548633"
      ]
     },
     "execution_count": 14,
     "metadata": {},
     "output_type": "execute_result"
    }
   ],
   "source": [
    "std"
   ]
  },
  {
   "cell_type": "markdown",
   "id": "8a8b196b-1611-4978-87ca-687ac75f1c32",
   "metadata": {},
   "source": [
    "Q5. How are measures of dispersion such as range, variance, and standard deviation used to describe the spread of a dataset? Provide an example."
   ]
  },
  {
   "cell_type": "markdown",
   "id": "058cc229-9d6b-4d48-828d-0b3b9d9ee2a3",
   "metadata": {},
   "source": [
    "Answer 5. Measures of dispersion such as range, variance, and standard deviation are used to describe the spread or variability of a dataset. These measures help us understand how far apart the data points are from each other and how much they deviate from the central tendency.\n",
    "\n",
    "1. Range: The range is the difference between the largest and smallest values in a dataset. It provides a simple measure of the spread of the data, but it is sensitive to outliers and can be misleading if there are extreme values. For example, the range of the heights of a group of students in a class could be 30 cm if the tallest student is 190 cm and the shortest is 160 cm.\n",
    "\n",
    "2. Variance: The variance is the average of the squared differences of each data point from the mean. It measures how much the data points deviate from the mean, and a higher variance indicates a wider spread of data. However, the variance is also sensitive to outliers and may not be intuitive as it is expressed in squared units. For example, the variance of the heights of the same group of students could be 9.09 cm^2.\n",
    "\n",
    "3. Standard deviation: The standard deviation is the square root of the variance and measures the amount of deviation of the data from the mean in the same units as the original data. It is widely used as a measure of dispersion as it is more intuitive and easier to interpret than the variance. A higher standard deviation indicates a wider spread of data. For example, the standard deviation of the heights of the same group of students could be 3.01 cm.\n",
    "\n",
    "In summary, measures of dispersion are used to describe the spread of a dataset and give us a sense of how much the data deviates from the central tendency. The choice of measure depends on the type of data and the goal of the analysis. For example, in the case of the heights of the students, the range, variance, and standard deviation all provide information about the spread of the data, but the standard deviation is more commonly used as it is easy to understand and is expressed in the same units as the original data."
   ]
  },
  {
   "cell_type": "markdown",
   "id": "1d545aff-faba-40f1-ba21-e74f331b164c",
   "metadata": {},
   "source": [
    "Q6. What is a Venn diagram?"
   ]
  },
  {
   "cell_type": "markdown",
   "id": "cb677302-714b-4d63-8353-77d7dc04551a",
   "metadata": {},
   "source": [
    "Answer 6. A Venn diagram is a graphical representation of the relationships between sets. It is named after John Venn, a British logician and philosopher who introduced this concept in 1880. Venn diagrams are often used in mathematics, logic, statistics, and other fields to visualize the intersections and differences between sets.\n",
    "\n",
    "A Venn diagram consists of overlapping circles or other shapes that represent sets or groups of objects. The area of each circle represents the size or cardinality of the set, and the overlapping area represents the elements that belong to both sets.\n",
    "\n",
    "\n",
    "For example, consider two sets A and B, where A = {1, 2, 3} and B = {2, 3, 4}. We can represent these sets using a Venn diagram as follows:\n",
    "\n",
    "\n",
    "    A: {1, 2, 3}\n",
    "    \n",
    "         o\n",
    "        / \\\n",
    "       /   \\\n",
    " \n",
    "    B: {2, 3, 4}\n",
    "\n",
    "\n",
    "In this diagram, the circle on the left represents set A, and the circle on the right represents set B. The shaded area in the middle represents the intersection of A and B, which is the set of elements that belong to both sets, i.e., {2, 3}. The area outside the circles represents the elements that belong to neither set.\n",
    "\n",
    "\n",
    "Venn diagrams can also be used to represent more than two sets, and the overlapping areas can show the relationships between the sets. Venn diagrams are a useful tool for visualizing set operations such as union, intersection, and complement, and for solving problems related to probability, logic, and statistics."
   ]
  },
  {
   "cell_type": "markdown",
   "id": "0ca58606-e1a9-4e21-b1d6-0038e57c2d64",
   "metadata": {},
   "source": [
    "Q7. For the two given sets A = (2,3,4,5,6,7) & B = (0,2,6,8,10). Find:\n",
    "\n",
    "(i) A ∩ B\n",
    "\n",
    "(ii) A ⋃ B"
   ]
  },
  {
   "cell_type": "markdown",
   "id": "16ec03c4-04ea-4076-a88c-c47a10063a8f",
   "metadata": {},
   "source": [
    "Answer 7. \n",
    "\n",
    "(i) A ∩ B = (2,6)\n",
    "\n",
    "(ii) A ⋃ B = (0,2,3,4,5,6,7,8,10)"
   ]
  },
  {
   "cell_type": "markdown",
   "id": "31c8c44e-12bf-4d3c-a4bc-c640f8dc4ecc",
   "metadata": {},
   "source": [
    "Q8. What do you understand about skewness in data?"
   ]
  },
  {
   "cell_type": "markdown",
   "id": "b780028d-2b2b-4e1e-843b-91a3c2c04944",
   "metadata": {},
   "source": [
    "Answer 8 . Skewness in data refers to the extent to which the distribution of data is asymmetric around its mean or median. A distribution is said to be skewed if it is not symmetrical, i.e., if the shape of the distribution is not the same on both sides of the center point. Skewness can be measured using a statistical measure called the skewness coefficient or index, which quantifies the extent and direction of skewness.\n",
    "\n",
    "There are two types of skewness: positive skewness and negative skewness. Positive skewness occurs when the tail of the distribution is longer on the right side than on the left, and the majority of the data is clustered on the left side of the distribution. Negative skewness occurs when the tail of the distribution is longer on the left side than on the right, and the majority of the data is clustered on the right side of the distribution.\n",
    "\n",
    "Skewed data can affect the accuracy of statistical analyses and machine learning models, as they assume that the data is normally distributed. Skewness can be reduced or eliminated by transforming the data using techniques such as logarithmic transformation, square root transformation, or Box-Cox transformation."
   ]
  },
  {
   "cell_type": "markdown",
   "id": "5a5214a4-be82-4e89-8cea-f1baf55670f6",
   "metadata": {},
   "source": [
    "Q9. If a data is right skewed then what will be the position of median with respect to mean?"
   ]
  },
  {
   "cell_type": "markdown",
   "id": "d36b6746-d576-4599-acaa-39b7596cf461",
   "metadata": {},
   "source": [
    "Answer 9. If a dataset is right skewed, the median will be less than the mean. This is because in a right-skewed distribution, the majority of the data is clustered on the left side of the distribution, which pulls the mean towards the longer tail on the right side of the distribution. The median, on the other hand, is less affected by the extreme values on the right side of the distribution, and thus tends to be closer to the center of the distribution, where the bulk of the data lies. Therefore, in a right-skewed distribution, the mean will be greater than the median."
   ]
  },
  {
   "cell_type": "markdown",
   "id": "545cb53d-55fb-4ce5-8f05-987fee2c9066",
   "metadata": {},
   "source": [
    "Q10. Explain the difference between covariance and correlation. How are these measures used in statistical analysis?"
   ]
  },
  {
   "cell_type": "markdown",
   "id": "b00fb755-0f2b-447d-bec1-1e4dceba68ba",
   "metadata": {},
   "source": [
    "Answer 10. Covariance and correlation are two measures used in statistics to quantify the relationship between two variables. While both measures indicate the direction of the relationship, correlation also provides information about the strength of the relationship.\n",
    "\n",
    "Covariance is a measure of how two variables vary together. It measures how much two variables change together, with a positive covariance indicating that they tend to increase or decrease together, and a negative covariance indicating that they tend to move in opposite directions. However, covariance is not standardized, meaning it depends on the scale of the variables, and therefore, it is difficult to compare covariances across different datasets.\n",
    "\n",
    "Correlation, on the other hand, measures the strength and direction of the linear relationship between two variables. Correlation ranges from -1 to 1, with -1 indicating a perfect negative linear relationship, 0 indicating no linear relationship, and 1 indicating a perfect positive linear relationship. Correlation is standardized, meaning that it is not affected by the scale of the variables, and therefore, it is easier to compare correlations across different datasets.\n",
    "\n",
    "Both covariance and correlation are used in statistical analysis to understand the relationship between variables. Covariance is often used in exploratory data analysis to identify potential relationships between variables, while correlation is used to quantify the strength and direction of the relationship. Correlation is also used to test hypotheses about the relationship between variables and to assess the predictive power of variables in regression models."
   ]
  },
  {
   "cell_type": "markdown",
   "id": "dc58e36b-0ae1-44db-8e68-2cb4184242c8",
   "metadata": {},
   "source": [
    "Q11. What is the formula for calculating the sample mean? Provide an example calculation for a dataset."
   ]
  },
  {
   "cell_type": "markdown",
   "id": "f349670c-10e0-4ee1-8d20-9320bea27b7b",
   "metadata": {},
   "source": [
    "Answer 11.\n",
    "\n",
    "The formula for calculating the sample mean, denoted by x̄, is:\n",
    "\n",
    "x̄ = (Σ xi) / n\n",
    "\n",
    "where Σ xi is the sum of all values in the dataset and n is the number of values in the dataset.\n",
    "\n",
    "For example, consider the following dataset: (3, 5, 7, 2, 9)\n",
    "\n",
    "To calculate the sample mean, we first add up all the values in the dataset:\n",
    "\n",
    "Σ xi = 3 + 5 + 7 + 2 + 9 = 26\n",
    "\n",
    "Next, we divide the sum by the number of values in the dataset:\n",
    "\n",
    "n = 5\n",
    "\n",
    "x̄ = (Σ xi) / n = 26 / 5 = 5.2\n",
    "\n",
    "Therefore, the sample mean for this dataset is 5.2."
   ]
  },
  {
   "cell_type": "markdown",
   "id": "2df8290f-52b2-467d-88a6-6d33379007f5",
   "metadata": {},
   "source": [
    "Q12. For a normal distribution data what is the relationship between its measure of central tendency?"
   ]
  },
  {
   "cell_type": "markdown",
   "id": "dd9c55ea-5baa-4c85-9cd9-551ac83fa77f",
   "metadata": {},
   "source": [
    "Answer 12.\n",
    "\n",
    "For a normal distribution, the mean, median, and mode are all equal. This is because a normal distribution is symmetrical around its mean, and therefore, the median, which represents the midpoint of the distribution, is also equal to the mean. The mode, which represents the most common value in the distribution, is also equal to the mean and median in a normal distribution. This property of a normal distribution is often referred to as the \"central limit theorem.\"\n",
    "\n",
    "This means that if we have a normal distribution of a certain variable, such as the height of adult males in a population, then the mean, median, and mode of the heights will all be equal, and located at the center of the distribution."
   ]
  },
  {
   "cell_type": "markdown",
   "id": "50e069ef-a00c-4c9a-a142-d9e5ac65d62c",
   "metadata": {},
   "source": [
    "Q13. How is covariance different from correlation?"
   ]
  },
  {
   "cell_type": "markdown",
   "id": "50f06fb8-825b-44e0-b6aa-9016bce9727f",
   "metadata": {},
   "source": [
    "Answer 13. \n",
    "\n",
    "Covariance and correlation are both measures of the relationship between two variables. However, there are some key differences between them:\n",
    "\n",
    "1. Definition: Covariance measures how two variables vary together, while correlation measures the strength and direction of the relationship between two variables.\n",
    "\n",
    "2. Range of values: Covariance values can range from negative infinity to positive infinity, while correlation values are bounded between -1 and 1.\n",
    "\n",
    "3. Interpretation: Covariance values are difficult to interpret because they are not standardized, meaning that they are influenced by the scale of the variables. Correlation values, on the other hand, are standardized and therefore easier to interpret.\n",
    "\n",
    "4. Units of measurement: Covariance is measured in the units of the two variables being analyzed, while correlation is a unitless measure.\n",
    "\n",
    "5. Sensitivity to outliers: Covariance is sensitive to outliers, while correlation is less sensitive to outliers.\n",
    "\n",
    "6. Calculation: Covariance is calculated by multiplying the deviation of each value from its mean for both variables, and then taking the average of the products. Correlation is calculated by standardizing the variables and then multiplying their z-scores.\n",
    "\n",
    "In summary, covariance measures the degree to which two variables are linearly associated, while correlation measures both the strength and direction of that association in a standardized way."
   ]
  },
  {
   "cell_type": "markdown",
   "id": "1276643d-a536-4944-9aad-5f2043d7e893",
   "metadata": {},
   "source": [
    "Q14. How do outliers affect measures of central tendency and dispersion? Provide an example."
   ]
  },
  {
   "cell_type": "markdown",
   "id": "c448449d-db17-46c1-9ffb-5bf9571f323d",
   "metadata": {},
   "source": [
    "Answer 14. Outliers can have a significant effect on both measures of central tendency and dispersion.\n",
    "\n",
    "In terms of measures of central tendency, outliers can pull the mean away from the true center of the data. For example, consider a dataset of incomes of a group of people, where most people have incomes between $30,000 and $60,000 per year, but one person has an income of $1 million per year. The mean income for the group would be much higher than the income that most people in the group actually earn, due to the influence of the outlier. The median, on the other hand, would be less affected by the outlier, as it is resistant to extreme values. The mode would also not be influenced by the outlier.\n",
    "\n",
    "In terms of measures of dispersion, outliers can greatly affect the range, variance, and standard deviation of a dataset. For example, consider a dataset of test scores for a group of students, where most scores fall between 70 and 90, but one student scores 20 points below the next lowest score. This outlier would greatly increase the range of the dataset, and also increase the variance and standard deviation, indicating greater variability in the data.\n",
    "\n",
    "Overall, it is important to identify and address outliers in a dataset to obtain accurate and meaningful measures of central tendency and dispersion."
   ]
  },
  {
   "cell_type": "code",
   "execution_count": null,
   "id": "ee07f457-ae97-41fa-9ed7-d6c537e3c28e",
   "metadata": {},
   "outputs": [],
   "source": []
  }
 ],
 "metadata": {
  "kernelspec": {
   "display_name": "Python 3 (ipykernel)",
   "language": "python",
   "name": "python3"
  },
  "language_info": {
   "codemirror_mode": {
    "name": "ipython",
    "version": 3
   },
   "file_extension": ".py",
   "mimetype": "text/x-python",
   "name": "python",
   "nbconvert_exporter": "python",
   "pygments_lexer": "ipython3",
   "version": "3.10.8"
  }
 },
 "nbformat": 4,
 "nbformat_minor": 5
}
